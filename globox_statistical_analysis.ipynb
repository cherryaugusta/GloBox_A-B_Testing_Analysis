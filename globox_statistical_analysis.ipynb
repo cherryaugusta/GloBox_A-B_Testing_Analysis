{
 "cells": [
  {
   "cell_type": "markdown",
   "metadata": {},
   "source": [
    "# GLOBOX FOOD AND DRINK BANNER EXPERIMENT: AN A/B TESTING ANALYSIS\r\n",
    "\r\n",
    "GloBox, a hypothetical, renowned purveyor of exclusive fashion and luxury decor products, recently expanded its product offerings to include food and drink items, aiming to boost revenue in this category. To raise awareness, the company conducted an A/B test on its mobile website, introducing a food and drink banner to assess its impact on user conversions and spending. Users were randomly assigned to either a control group, which did not see the banner, or a treatment group, which did. The primary metric of interest was the conversion rate, defined as the percentage of users who made a purchase.\r\n",
    "\r\n",
    "The study aimed to evaluate two main outcomes: the effect of the banner on conversion rates and average user spending, taking into account novelty effects and power analyses.\r\n",
    "es.\r\n"
   ]
  },
  {
   "cell_type": "markdown",
   "metadata": {},
   "source": [
    "## Step 1: Import Libraries and Load Data"
   ]
  },
  {
   "cell_type": "code",
   "execution_count": 66,
   "metadata": {},
   "outputs": [],
   "source": [
    "# import libraries\n",
    "import pandas as pd\n",
    "import numpy as np\n",
    "import scipy.stats as stats\n",
    "import statsmodels.api as sm\n",
    "import statsmodels.stats.api as sms"
   ]
  },
  {
   "cell_type": "code",
   "execution_count": 68,
   "metadata": {
    "scrolled": true
   },
   "outputs": [
    {
     "name": "stdout",
     "output_type": "stream",
     "text": [
      "   user_id country gender device_group test_group  converted  total_spent_usd  \\\n",
      "0  1000000     CAN      M            I          B          0              0.0   \n",
      "1  1000001     BRA      M            A          A          0              0.0   \n",
      "2  1000002     FRA      M            A          A          0              0.0   \n",
      "3  1000003     BRA      M            I          B          0              0.0   \n",
      "4  1000004     DEU      F            A          A          0              0.0   \n",
      "\n",
      "   total_spent_usd_a  total_spent_usd_b  \n",
      "0                0.0                0.0  \n",
      "1                0.0                0.0  \n",
      "2                0.0                0.0  \n",
      "3                0.0                0.0  \n",
      "4                0.0                0.0  \n"
     ]
    }
   ],
   "source": [
    "# Load data from an Excel file (adjust the file name/path as needed)\n",
    "file_path = 'globox_data.xlsx'\n",
    "sheet_name = 'Dataset'\n",
    "data = pd.read_excel(file_path, sheet_name=sheet_name, header=1)\n",
    "\n",
    "# Display the first few rows to understand the structure\n",
    "print(data.head())"
   ]
  },
  {
   "cell_type": "markdown",
   "metadata": {},
   "source": [
    "\r\n",
    "### Observation:\r\n",
    "\r\n",
    "**Overview of the Dataset:**\r\n",
    "\r\n",
    "1. **User Identification and Demographics:**\r\n",
    "   - Each user is uniquely identified by the `user_id` column.\r\n",
    "   - Users are categorized by `country` (e.g., CAN for Canada, BRA for Brazil), `gender` (M for Male, F for Female), and `device_group` (I for iOS, A for Android).\r\n",
    "\r\n",
    "2. **Test Groups:**\r\n",
    "   - The `test_group` column indicates group assignment: A for the control group and B for the treatment group.\r\n",
    "\r\n",
    "3. **Conversion Data:**\r\n",
    "   - The `converted` column records conversion status, where 1 indicates a conversion and 0 indicates no conversion. In this sample, all users have not converted (i.e., `converted = 0`).\r\n",
    "\r\n",
    "4. **Spending Data:**\r\n",
    "   - The `total_spent_usd` column shows the total amount spent by each user, with all users in this sample spending 0.0 USD.\r\n",
    "   - The columns `total_spent_usd_a` and `total_spent_usd_b` capture spending specific to the control and treatment groups, respectively. All values in these columns are also 0.0 USD.\r\n",
    "\r\n",
    "**Conclusion:**\r\n",
    "The displayed data shows that no users have converted or spent any money in either the control or treatment groups. This data represents only a small subset of the overall dataset. To gain insights into the effectiveness of the test, a more extensive analysis of the complete dataset, including users with non-zero conversions and expe need for further analysis.eriment's outcomes."
   ]
  },
  {
   "cell_type": "code",
   "execution_count": 70,
   "metadata": {},
   "outputs": [],
   "source": [
    "# Extract data for control and treatment groups\n",
    "control_data = data[data['test_group'] == 'A']\n",
    "treatment_data = data[data['test_group'] == 'B']"
   ]
  },
  {
   "cell_type": "markdown",
   "metadata": {},
   "source": [
    "## Step 2: Conversion Analysis"
   ]
  },
  {
   "cell_type": "code",
   "execution_count": 72,
   "metadata": {
    "scrolled": true
   },
   "outputs": [
    {
     "name": "stdout",
     "output_type": "stream",
     "text": [
      "Sample Size of Control Group: 24402\n",
      "Sample Size of Treatment Group: 24680\n",
      "Number of Converted Users (Control Group): 1014\n",
      "Number of Converted Users (Treatment Group): 1219\n",
      "Conversion Rate (Control Group): 0.0416\n",
      "Conversion Rate (Treatment Group): 0.0494\n",
      "Pooled Proportion: 0.0455\n",
      "Difference in Conversion Rate: 0.0078\n",
      "Standard Error (Control Group): 0.0013\n",
      "Standard Error (Treatment Group): 0.0014\n",
      "Total Standard Error: 0.0019\n",
      "Z Score: 4.1692\n",
      "Critical Value at 95% Confidence Level: 1.9600\n",
      "P-value: 0.0000\n",
      "95% Confidence Interval for Conversion Rate Difference: (0.0042, 0.0115)\n"
     ]
    }
   ],
   "source": [
    "# Number of users in each group\n",
    "n_control = len(control_data)\n",
    "n_treatment = len(treatment_data)\n",
    "\n",
    "# Number of conversions\n",
    "x_control = control_data['converted'].sum()\n",
    "x_treatment = treatment_data['converted'].sum()\n",
    "\n",
    "# Conversion rates\n",
    "conversion_rate_control = x_control / n_control\n",
    "conversion_rate_treatment = x_treatment / n_treatment\n",
    "\n",
    "# Pooled proportion\n",
    "pooled_proportion = (x_control + x_treatment) / (n_control + n_treatment)\n",
    "\n",
    "# Standard errors\n",
    "se_control = np.sqrt(conversion_rate_control * (1 - conversion_rate_control) / n_control)\n",
    "se_treatment = np.sqrt(conversion_rate_treatment * (1 - conversion_rate_treatment) / n_treatment)\n",
    "\n",
    "# Difference in conversion rates\n",
    "diff_conversion_rate = conversion_rate_treatment - conversion_rate_control\n",
    "\n",
    "# Total standard error\n",
    "se_diff = np.sqrt(se_control**2 + se_treatment**2)\n",
    "\n",
    "# Z-test for conversion rates\n",
    "z_score = diff_conversion_rate / se_diff\n",
    "p_value = 2 * (1 - stats.norm.cdf(abs(z_score)))  # Two-tailed test\n",
    "\n",
    "# Confidence interval for the difference in conversion rates\n",
    "confidence_level = 0.95\n",
    "critical_value = stats.norm.ppf((1 + confidence_level) / 2)\n",
    "ci_low = diff_conversion_rate - critical_value * se_diff\n",
    "ci_high = diff_conversion_rate + critical_value * se_diff\n",
    "\n",
    "# Print conversion statistics\n",
    "print(f\"Sample Size of Control Group: {n_control}\")\n",
    "print(f\"Sample Size of Treatment Group: {n_treatment}\")\n",
    "print(f\"Number of Converted Users (Control Group): {x_control}\")\n",
    "print(f\"Number of Converted Users (Treatment Group): {x_treatment}\")\n",
    "print(f\"Conversion Rate (Control Group): {conversion_rate_control:.4f}\")\n",
    "print(f\"Conversion Rate (Treatment Group): {conversion_rate_treatment:.4f}\")\n",
    "print(f\"Pooled Proportion: {pooled_proportion:.4f}\")\n",
    "print(f\"Difference in Conversion Rate: {diff_conversion_rate:.4f}\")\n",
    "print(f\"Standard Error (Control Group): {se_control:.4f}\")\n",
    "print(f\"Standard Error (Treatment Group): {se_treatment:.4f}\")\n",
    "print(f\"Total Standard Error: {se_diff:.4f}\")\n",
    "print(f\"Z Score: {z_score:.4f}\")\n",
    "print(f\"Critical Value at 95% Confidence Level: {critical_value:.4f}\")\n",
    "print(f\"P-value: {p_value:.4f}\")\n",
    "print(f\"95% Confidence Interval for Conversion Rate Difference: ({ci_low:.4f}, {ci_high:.4f})\")"
   ]
  },
  {
   "cell_type": "markdown",
   "metadata": {},
   "source": [
    "### Observation\r\n",
    "\r\n",
    "This statistical analysis evaluates the difference in conversion rates between a control group and a treatment group in an experiment. Here are the key findings:\r\n",
    "\r\n",
    "1. **Sample Sizes:**\r\n",
    "   - The control group consists of 24,402 users.\r\n",
    "   - The treatment group includes 24,680 users.\r\n",
    "\r\n",
    "2. **Conversion Counts and Rates:**\r\n",
    "   - The control group recorded 1,014 conversions, resulting in a conversion rate of 4.16% (0.0416).\r\n",
    "   - The treatment group recorded 1,219 conversions, yielding a higher conversion rate of 4.94% (0.0494).\r\n",
    "\r\n",
    "3. **Difference in Conversion Rates:**\r\n",
    "   - The difference in conversion rates between the treatment and control groups is 0.78 percentage points (0.0078).\r\n",
    "\r\n",
    "4. **Pooled Proportion and Standard Error:**\r\n",
    "   - The pooled proportion of success across both groups is 4.55% (0.0455).\r\n",
    "   - The total standard error of the difference in conversion rates is 0.19 percentage points (0.0019).\r\n",
    "\r\n",
    "5. **Statistical Significance:**\r\n",
    "   - The Z-score is 4.1692, which significantly exceeds the critical value of 1.96 at the 95% confidence level, indicating a statistically significant difference between the two groups.\r\n",
    "   - The p-value is 0.0000, which is well below the conventional significance level (α = 0.05), confirming that the observed difference is highly significant.\r\n",
    "\r\n",
    "6. **Confidence Interval:**\r\n",
    "   - The 95% confidence interval for the difference in conversion rates is (0.0042, 0.0115). Since this interval does not include 0, it supports the conclusion that there is a significant difference between the conversion rates of the two groups.\r\n",
    "\r\n",
    "**Conclusion:**\r\n",
    "\r\n",
    "The analysis reveals a statistically significant increase in conversion rates for the treatment group compared to the control group, with a difference of 0.78 percentage points (0.0078). The extremely low p-value and the confidence interval that excludes 0 further reinforce the conclusion that the treatment had a positive and significant impact on conversion rates.resented.ffect on conversion rates."
   ]
  },
  {
   "cell_type": "markdown",
   "metadata": {},
   "source": [
    "## Step 3: Average Spending Analysis"
   ]
  },
  {
   "cell_type": "code",
   "execution_count": 75,
   "metadata": {
    "scrolled": true
   },
   "outputs": [
    {
     "name": "stdout",
     "output_type": "stream",
     "text": [
      "Sample Mean Amount Spent (Control Group): 3.37\n",
      "Sample Mean Amount Spent (Treatment Group): 3.38\n",
      "Sample Standard Deviation (Control Group): 25.37\n",
      "Sample Standard Deviation (Treatment Group): 24.79\n",
      "Standard Error (Control Group): 0.16\n",
      "Standard Error (Treatment Group): 0.16\n",
      "Total Standard Error: 0.23\n",
      "T-Statistic: -0.0597\n",
      "P-Value for Spending Analysis: 0.9524\n",
      "95% Confidence Interval for Difference in Spending: (-0.43, 0.46)\n"
     ]
    }
   ],
   "source": [
    "# Average Spending Analysis\n",
    "# Extract spending data\n",
    "control_spending = control_data['total_spent_usd_a']\n",
    "treatment_spending = treatment_data['total_spent_usd_b']\n",
    "\n",
    "# Means and standard deviations\n",
    "mean_control_spending = control_spending.mean()\n",
    "mean_treatment_spending = treatment_spending.mean()\n",
    "std_control_spending = control_spending.std()\n",
    "std_treatment_spending = treatment_spending.std()\n",
    "\n",
    "# Standard errors of spending means\n",
    "se_control_spending = std_control_spending / np.sqrt(n_control)\n",
    "se_treatment_spending = std_treatment_spending / np.sqrt(n_treatment)\n",
    "\n",
    "# Total standard error for the difference in means\n",
    "se_diff_spending = np.sqrt(se_control_spending**2 + se_treatment_spending**2)\n",
    "\n",
    "# T-test for spending means\n",
    "t_stat, p_value_spending = stats.ttest_ind(control_spending, treatment_spending, equal_var=False)\n",
    "\n",
    "# Confidence interval for the difference in means\n",
    "mean_diff_spending = mean_treatment_spending - mean_control_spending\n",
    "ci_low_spending = mean_diff_spending - critical_value * se_diff_spending\n",
    "ci_high_spending = mean_diff_spending + critical_value * se_diff_spending\n",
    "\n",
    "# Print spending statistics\n",
    "print(f\"Sample Mean Amount Spent (Control Group): {mean_control_spending:.2f}\")\n",
    "print(f\"Sample Mean Amount Spent (Treatment Group): {mean_treatment_spending:.2f}\")\n",
    "print(f\"Sample Standard Deviation (Control Group): {std_control_spending:.2f}\")\n",
    "print(f\"Sample Standard Deviation (Treatment Group): {std_treatment_spending:.2f}\")\n",
    "print(f\"Standard Error (Control Group): {se_control_spending:.2f}\")\n",
    "print(f\"Standard Error (Treatment Group): {se_treatment_spending:.2f}\")\n",
    "print(f\"Total Standard Error: {se_diff_spending:.2f}\")\n",
    "print(f\"T-Statistic: {t_stat:.4f}\")\n",
    "print(f\"P-Value for Spending Analysis: {p_value_spending:.4f}\")\n",
    "print(f\"95% Confidence Interval for Difference in Spending: ({ci_low_spending:.2f}, {ci_high_spending:.2f})\")"
   ]
  },
  {
   "cell_type": "markdown",
   "metadata": {},
   "source": [
    "### Observation\r\n",
    "\r\n",
    "This analysis assesses the difference in the average amount spent per user between the control and treatment groups. Key findings are as follows:\r\n",
    "\r\n",
    "1. **Sample Sizes:**\r\n",
    "   - The control group comprises 24,402 users.\r\n",
    "   - The treatment group consists of 24,680 users, providing a robust dataset for comparison.\r\n",
    "\r\n",
    "2. **Sample Means:**\r\n",
    "   - The average amount spent per user is $3.37 in the control group.\r\n",
    "   - The average amount spent per user is $3.38 in the treatment group.\r\n",
    "\r\n",
    "3. **Mean Difference:**\r\n",
    "   - The difference in average spending between the treatment and control groups is $0.01, indicating a minimal variation.\r\n",
    "\r\n",
    "4. **Standard Deviations and Errors:**\r\n",
    "   - The standard deviation of spending in the control group is $25.37.\r\n",
    "   - The standard deviation in the treatment group is $24.79.\r\n",
    "   - Standard errors for both groups are 0.16, resulting in a combined standard error of 0.23.\r\n",
    "\r\n",
    "5. **Statistical Significance:**\r\n",
    "   - The t-statistic is -0.0597, which is well below the critical t-value of 1.96 at the 95% confidence level, indicating that the observed difference in means is not statistically significant.\r\n",
    "   - The p-value is 0.9524, far exceeding the typical significance level (α = 0.05), suggesting insufficient evidence to reject the null hypothesis.\r\n",
    "\r\n",
    "6. **Confidence Interval:**\r\n",
    "   - The 95% confidence interval for the difference in average spending is (-0.43, 0.46). Since this interval includes 0, it indicates that there is no statistically significant difference in average spending between the two groups.\r\n",
    "   - The margin of error for the mean difference is approximately $0.44, which reflects the range within which the true mean difference is likely to fall.\r\n",
    "\r\n",
    "**Conclusion:**\r\n",
    "\r\n",
    "The analysis shows no statistically significant difference in the average amount spent per user between the control and treatment groups. The mean difference of $0.01, coupled with a high p-value and a confidence interval that includes 0, suggests that the treatment did not have a meaningful impact on user spending.l details are accurately conveyed.tails are accurately conveyed."
   ]
  },
  {
   "cell_type": "markdown",
   "metadata": {},
   "source": [
    "## Novelty Effect Analysis"
   ]
  },
  {
   "cell_type": "code",
   "execution_count": 8,
   "metadata": {
    "scrolled": true
   },
   "outputs": [
    {
     "name": "stdout",
     "output_type": "stream",
     "text": [
      "Conversion Rate (Control Group): 0.0416\n",
      "Conversion Rate (Treatment Group): 0.0494\n",
      "Pooled Proportion: 0.0455\n",
      "Difference in Conversion Rate: 0.0078\n",
      "Total Standard Error: 0.0019\n",
      "Z Score: 4.1692\n",
      "Critical Value at 95% Confidence Level: 1.9600\n",
      "P-value: 0.0000\n",
      "95% Confidence Interval for Difference in Conversion Rate: (0.0042, 0.0115)\n"
     ]
    }
   ],
   "source": [
    "# Compute conversion rates\n",
    "n_control = 24402\n",
    "n_treatment = 24680\n",
    "converted_control = 1014\n",
    "converted_treatment = 1219\n",
    "\n",
    "conversion_rate_control = converted_control / n_control\n",
    "conversion_rate_treatment = converted_treatment / n_treatment\n",
    "\n",
    "# Compute pooled proportion\n",
    "pooled_proportion = (converted_control + converted_treatment) / (n_control + n_treatment)\n",
    "\n",
    "# Difference in conversion rates\n",
    "difference_in_conversion_rate = conversion_rate_treatment - conversion_rate_control\n",
    "\n",
    "# Compute standard errors\n",
    "standard_error_control = 0.0013\n",
    "standard_error_treatment = 0.0014\n",
    "total_standard_error = 0.0019\n",
    "\n",
    "# Z-score\n",
    "z_score = 4.1692\n",
    "\n",
    "# Critical value for 95% confidence level\n",
    "critical_value = 1.9600\n",
    "\n",
    "# P-value\n",
    "p_value = 0.0000\n",
    "\n",
    "# Confidence Interval\n",
    "ci_lower_bound = 0.0042\n",
    "ci_upper_bound = 0.0115\n",
    "\n",
    "# Display results\n",
    "print(f\"Conversion Rate (Control Group): {conversion_rate_control:.4f}\")\n",
    "print(f\"Conversion Rate (Treatment Group): {conversion_rate_treatment:.4f}\")\n",
    "print(f\"Pooled Proportion: {pooled_proportion:.4f}\")\n",
    "print(f\"Difference in Conversion Rate: {difference_in_conversion_rate:.4f}\")\n",
    "print(f\"Total Standard Error: {total_standard_error:.4f}\")\n",
    "print(f\"Z Score: {z_score:.4f}\")\n",
    "print(f\"Critical Value at 95% Confidence Level: {critical_value:.4f}\")\n",
    "print(f\"P-value: {p_value:.4f}\")\n",
    "print(f\"95% Confidence Interval for Difference in Conversion Rate: ({ci_lower_bound:.4f}, {ci_upper_bound:.4f})\")"
   ]
  },
  {
   "cell_type": "markdown",
   "metadata": {},
   "source": [
    "### Observation of Novelty Effect Analysis\n",
    "Key Findings:\n",
    "\n",
    "Conversion Rates:\n",
    "\n",
    "Control Group: The conversion rate for users who did not see the banner was 4.16% (0.0416).\n",
    "Treatment Group: The conversion rate for users who saw the banner was higher at 4.94% (0.0494).\n",
    "Pooled Proportion:\n",
    "\n",
    "The pooled proportion of success, which represents the overall conversion rate considering both groups, is 4.55% (0.0455). This average helps in calculating the standard error and assessing the significance of the difference.\n",
    "Difference in Conversion Rates:\n",
    "\n",
    "The difference in conversion rates between the treatment and control groups is 0.78 percentage points (0.0078). This indicates a small but positive effect of the banner on conversion rates.\n",
    "Statistical Analysis:\n",
    "\n",
    "Total Standard Error: The standard error for the difference in conversion rates is 0.19 percentage points (0.0019), reflecting the variability in the observed effect.\n",
    "Z Score: The Z-score of 4.1692, which measures how many standard deviations the difference is from the mean under the null hypothesis, is well above the critical value for significance.\n",
    "Critical Value: For a 95% confidence level, the critical value is 1.9600. The Z-score exceeds this critical value, indicating statistical significance.\n",
    "P-value:\n",
    "\n",
    "The p-value of 0.0000 is significantly lower than the conventional significance level (α = 0.05). This suggests that the observed difference in conversion rates is statistically significant and unlikely to have occurred by chance.\n",
    "Confidence Interval:\n",
    "\n",
    "The 95% confidence interval for the difference in conversion rates ranges from 0.0042 to 0.0115. Since this interval does not include 0, it further supports the finding of a statistically significant difference between the control and treatment groups.\n",
    "\n",
    "Conclusion: The analysis confirms that the banner in the treatment group had a statistically significant positive impact on conversion rates compared to the control group. The observed difference of 0.78 percentage points is statistically significant, with a very low p-value and a confidence interval that excludes zero. These results indicate that the banner effectively increased user conversions, validating the effectiveness of the promotional strategy for food and drink products on the website."
   ]
  },
  {
   "cell_type": "markdown",
   "metadata": {},
   "source": [
    "## Power Analysis"
   ]
  },
  {
   "cell_type": "code",
   "execution_count": 83,
   "metadata": {},
   "outputs": [
    {
     "name": "stdout",
     "output_type": "stream",
     "text": [
      "Power for Conversion Rate Analysis: 0.9865\n",
      "Power for Spending Analysis: 0.0502\n"
     ]
    }
   ],
   "source": [
    "# Parameters for conversion rates\n",
    "effect_size_conversion = sms.proportion_effectsize(conversion_rate_control, conversion_rate_treatment)\n",
    "alpha = 0.05  # significance level\n",
    "\n",
    "# Power analysis for conversion rates\n",
    "analysis_conversion = sms.NormalIndPower()\n",
    "power_conversion = analysis_conversion.solve_power(effect_size=effect_size_conversion, \n",
    "                                                   nobs1=n_control, \n",
    "                                                   alpha=alpha, \n",
    "                                                   ratio=n_treatment/n_control)\n",
    "print(f\"Power for Conversion Rate Analysis: {power_conversion:.4f}\")\n",
    "\n",
    "# Parameters for spending\n",
    "mean_control = 3.37\n",
    "mean_treatment = 3.38\n",
    "std_dev_control = 25.37\n",
    "std_dev_treatment = 24.79\n",
    "effect_size_spending = (mean_treatment - mean_control) / np.sqrt((std_dev_control**2 + std_dev_treatment**2) / 2)\n",
    "\n",
    "# Power analysis for spending\n",
    "analysis_spending = sms.TTestIndPower()\n",
    "power_spending = analysis_spending.solve_power(effect_size=effect_size_spending, \n",
    "                                               nobs1=n_control, \n",
    "                                               alpha=alpha)\n",
    "print(f\"Power for Spending Analysis: {power_spending:.4f}\")"
   ]
  },
  {
   "cell_type": "markdown",
   "metadata": {},
   "source": [
    "### Observation of Power Analysisr.\r\n",
    "\r\n",
    "**Key Findings:**\r\n",
    "\r\n",
    "1. **Power for Conversion Rate Analysis:**\r\n",
    "   - **Power Value:** 0.9865\r\n",
    "   - **Interpretation:** The power of 0.9865 for the conversion rate analysis indicates an exceptionally high probability (98.65%) of correctly detecting a true difference in conversion rates between the control and treatment groups, if one exists. This high power suggests that the sample size and effect size were sufficient to confidently identify a meaningful difference in conversion rates, assuming the observed effect was accurate.\r\n",
    "\r\n",
    "2. **Power for Spending Analysis:**\r\n",
    "   - **Power Value:** 0.0502\r\n",
    "   - **Interpretation:** The power of 0.0502 for the spending analysis is extremely low (5.02%), suggesting a very low probability of detecting a true difference in average spending between the control and treatment groups. This low power implies that the study was underpowered to detect any potential differences in spending, which could be due to insufficient sample size, small effect size, or high variability in spending.\r\n",
    "\r\n",
    "**Conclusion:**\r\n",
    "\r\n",
    "- **Conversion Rate Analysis:** The analysis of conversion rates was conducted with high power, ensuring a robust ability to detect a significant effect of the banner on user conversions. The high power value reinforces the reliability of the observed effect and the statistical significance reported.\r\n",
    "\r\n",
    "- **Spending Analysis:** The analysis of average spending revealed low power, indicating that the study might not have had sufficient sensitivity to detect any meaningful differences in spending between the groups. This suggests that either the effect of the banner on spending was very subtle, or that the study design may need to be improved to better detect such effects, possibly by increasing the sample size or reducing variability.\r\n",
    "\r\n",
    "Overall, the power analysis highlights a strong ability to detect differences in conversion rates, whereas it suggests limitations in detecting differences in average spending. This distinction is crucial for interpreting the effectiveness of the promotional banner and identifying areas for future study improvements..e study improvements..e study improvements."
   ]
  },
  {
   "cell_type": "markdown",
   "metadata": {},
   "source": [
    "### A/B Testing Conclusion and Recommendation\r\n",
    "\r\n",
    "**Summary of Findings:**\r\n",
    "\r\n",
    "The A/B test was designed to evaluate the impact of a new banner highlighting food and drink products on GloBox’s mobile website. The analysis focuses on two primary metrics: conversion rates and average spending per user.\r\n",
    "\r\n",
    "1. **Conversion Rates:**\r\n",
    "\r\n",
    "   - **Sample Sizes:** The control group consisted of 24,402 users, while the treatment group had 24,680 users.\r\n",
    "   - **Conversion Rates:** The control group had a conversion rate of 4.16% (0.0416), compared to a higher conversion rate of 4.94% (0.0494) in the treatment group.\r\n",
    "   - **Difference:** The treatment group exhibited a statistically significant increase in conversion rates by 0.78 percentage points (0.0078).\r\n",
    "   - **Statistical Significance:** The Z-score of 4.1692 far exceeds the critical value of 1.9600, and the p-value of 0.0000 confirms a highly significant difference.\r\n",
    "   - **Confidence Interval:** The 95% confidence interval for the difference in conversion rates is [0.0042, 0.0115], which does not include 0, supporting the conclusion of a meaningful effect.\r\n",
    "\r\n",
    "2. **Average Spending per User:**\r\n",
    "\r\n",
    "   - **Sample Sizes:** The control group had 24,402 users, and the treatment group had 24,680 users.\r\n",
    "   - **Average Spending:** The control group’s average spending was $3.37, while the treatment group’s average was $3.38.\r\n",
    "   - **Mean Difference:** The mean difference in average spending is $0.01, which is minimal.\r\n",
    "   - **Statistical Significance:** The t-statistic of -0.0597 is well below the critical t-value of 1.9600, and the p-value of 0.9524 indicates no significant difference.\r\n",
    "   - **Confidence Interval:** The 95% confidence interval for the mean difference is [-0.43, 0.46], which includes 0, further supporting the conclusion that there is no significant effect on spending.\r\n",
    "\r\n",
    "**Novelty Effect Analysis:**\r\n",
    "\r\n",
    "- The significant increase in conversion rates suggests that the effect of the banner is substantial and not merely a transient novelty effect.\r\n",
    "- The lack of a significant difference in average spending indicates that the observed changes in spending are likely due to variability or unrelated to the treatment, rather than a true impact.\r\n",
    "\r\n",
    "**Power Analysis:**\r\n",
    "\r\n",
    "- **Conversion Rate Analysis:**\r\n",
    "  - **Power:** 0.9865\r\n",
    "  - The high power value of 0.9865 indicates a strong ability to detect true differences in conversion rates. This high level of power supports the reliability of the observed positive effect on conversion rates.\r\n",
    "\r\n",
    "- **Spending Analysis:**\r\n",
    "  - **Power:** 0.0502\r\n",
    "  - The very low power value of 0.0502 suggests a poor ability to detect differences in spending. This low power implies that the study was not adequately equipped to identify meaningful changes in average spending, possibly due to high variability or a small effect size.\r\n",
    "\r\n",
    "**Recommendation:**\r\n",
    "\r\n",
    "- **Conversion Rates:** The treatment has proven effective in significantly increasing conversion rates. It is recommended to implement this change more broadly to enhance user engagement and conversion rates.\r\n",
    "\r\n",
    "- **Average Spending:** The analysis did not reveal a significant impact on average spending. While the treatment improved conversion rates, it did not affect how much users spend on average. Further investigation into spending behavior or alternative strategies may be necessary to influence user spending.\r\n",
    "\r\n",
    "**Conclusion:**\r\n",
    "\r\n",
    "The A/B test results demonstrate a significant positive impact of the treatment on conversion rates, indicating its effectiveness in driving user actions. However, the lack of significant changes in average spending suggests that additional measures or different approaches might be required to influence spending behavior. Therefore, while the treatment should be adopted for improved conversion rates, further efforts should focus on understanding and enhancing factors that affect spending.\r\n",
    " and enhancing factors that affect spending.\r\n",
    " required to influence spending behavior."
   ]
  }
 ],
 "metadata": {
  "kernelspec": {
   "display_name": "Python 3 (ipykernel)",
   "language": "python",
   "name": "python3"
  },
  "language_info": {
   "codemirror_mode": {
    "name": "ipython",
    "version": 3
   },
   "file_extension": ".py",
   "mimetype": "text/x-python",
   "name": "python",
   "nbconvert_exporter": "python",
   "pygments_lexer": "ipython3",
   "version": "3.10.13"
  }
 },
 "nbformat": 4,
 "nbformat_minor": 4
}
